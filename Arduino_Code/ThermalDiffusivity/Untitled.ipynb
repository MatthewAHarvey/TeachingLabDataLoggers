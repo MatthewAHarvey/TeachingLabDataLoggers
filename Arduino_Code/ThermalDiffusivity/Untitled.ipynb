{
 "cells": [
  {
   "cell_type": "markdown",
   "metadata": {},
   "source": [
    "double T1_CoeffA = -12.5688715;\n",
    "double T1_CoeffB =0.0270746;\n",
    "double T2_CoeffA = -13.36565856;\n",
    "double T2_CoeffB = 0.02739425816;\n"
   ]
  },
  {
   "cell_type": "code",
   "execution_count": null,
   "metadata": {},
   "outputs": [],
   "source": [
    "T1calibs = [400, 36]\n",
    "T2calibs = [400, 36]"
   ]
  },
  {
   "cell_type": "markdown",
   "metadata": {},
   "source": [
    "$mV = BT + A$\n",
    "\n",
    "$BT = mV - A$\n",
    "\n",
    "$T = \\frac{mV - A}{B}$"
   ]
  },
  {
   "cell_type": "markdown",
   "metadata": {},
   "source": [
    "The numbers were in mV and I need them in DAC values\n",
    "\n",
    "$DAC = \\frac{mV}{5000}$\n",
    "\n",
    "Making \n",
    "\n",
    "$T = \\frac{\\frac{mV}{5000} - A}{B}$"
   ]
  }
 ],
 "metadata": {
  "kernelspec": {
   "display_name": "Python 3",
   "language": "python",
   "name": "python3"
  },
  "language_info": {
   "codemirror_mode": {
    "name": "ipython",
    "version": 3
   },
   "file_extension": ".py",
   "mimetype": "text/x-python",
   "name": "python",
   "nbconvert_exporter": "python",
   "pygments_lexer": "ipython3",
   "version": "3.6.4"
  }
 },
 "nbformat": 4,
 "nbformat_minor": 2
}
